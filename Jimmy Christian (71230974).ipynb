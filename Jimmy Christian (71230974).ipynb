{
 "cells": [
  {
   "cell_type": "code",
   "execution_count": null,
   "id": "b13bef19",
   "metadata": {},
   "outputs": [],
   "source": [
    "import re \n",
    "from datetime import datetime\n",
    "\n",
    "handle = open(\"a.txt\")\n",
    "text = \"\"\n",
    "for i in handle:\n",
    "    text = text + i\n",
    "\n",
    "dnow = datetime.now()\n",
    "dtext = re.findall (\"[0-9][0-9][0-9][0-9]-[0-1][0-9]-[0-9][0-9]\", text)\n",
    "\n",
    "for j in range (len(dtext)):\n",
    "    convert = datetime.strptime(dtext[j], \"%Y-%m-%d\")\n",
    "    selisih = (dnow - convert).days\n",
    "    print(convert, f\"selisih {selisih} hari\")"
   ]
  },
  {
   "cell_type": "code",
   "execution_count": null,
   "id": "77cb23db",
   "metadata": {},
   "outputs": [],
   "source": [
    "import re \n",
    "import random\n",
    "handle = open(\"b.txt\")\n",
    "text = \"\"\n",
    "password = \"\"\n",
    "for i in (handle):\n",
    "    email = re.search(\".*@.\\S*\" ,i)\n",
    "    if email != None:\n",
    "        email = email[0]\n",
    "        username = (str(email).split(\"@\"))[0]\n",
    "        char = \"abcdefghijklmnopqrstuvwxyzABCDEFGHIJKLMNOPQRSTUVWXYZ0123456789\"\n",
    "        for j in range (8):\n",
    "            password = password + random.choice(char)\n",
    "        print(f\"{str(email)} username: {str(username)} , password: {password}\")\n",
    "        password = \"\""
   ]
  }
 ],
 "metadata": {
  "kernelspec": {
   "display_name": "Python 3 (ipykernel)",
   "language": "python",
   "name": "python3"
  },
  "language_info": {
   "codemirror_mode": {
    "name": "ipython",
    "version": 3
   },
   "file_extension": ".py",
   "mimetype": "text/x-python",
   "name": "python",
   "nbconvert_exporter": "python",
   "pygments_lexer": "ipython3",
   "version": "3.11.5"
  }
 },
 "nbformat": 4,
 "nbformat_minor": 5
}
